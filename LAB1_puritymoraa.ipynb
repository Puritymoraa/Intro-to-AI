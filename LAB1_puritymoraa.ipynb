{
  "nbformat": 4,
  "nbformat_minor": 0,
  "metadata": {
    "colab": {
      "provenance": []
    },
    "kernelspec": {
      "name": "python3",
      "display_name": "Python 3"
    },
    "language_info": {
      "name": "python"
    }
  },
  "cells": [
    {
      "cell_type": "code",
      "execution_count": 20,
      "metadata": {
        "id": "VHNVzRsVjlRn"
      },
      "outputs": [],
      "source": [
        "import pandas as pd\n",
        "data = pd.read_csv('/content/sample_data/Life Expectancy Data.csv')"
      ]
    },
    {
      "cell_type": "code",
      "source": [
        "print(data)"
      ],
      "metadata": {
        "colab": {
          "base_uri": "https://localhost:8080/"
        },
        "id": "-Pwb5gWVlHyF",
        "outputId": "ed261f81-ca28-4ad2-dc15-53b4736261a3"
      },
      "execution_count": 21,
      "outputs": [
        {
          "output_type": "stream",
          "name": "stdout",
          "text": [
            "          Country  Year      Status  Life expectancy   Adult Mortality  \\\n",
            "0     Afghanistan  2015  Developing              65.0            263.0   \n",
            "1     Afghanistan  2014  Developing              59.9            271.0   \n",
            "2     Afghanistan  2013  Developing              59.9            268.0   \n",
            "3     Afghanistan  2012  Developing              59.5            272.0   \n",
            "4     Afghanistan  2011  Developing              59.2            275.0   \n",
            "...           ...   ...         ...               ...              ...   \n",
            "2933     Zimbabwe  2004  Developing              44.3            723.0   \n",
            "2934     Zimbabwe  2003  Developing              44.5            715.0   \n",
            "2935     Zimbabwe  2002  Developing              44.8             73.0   \n",
            "2936     Zimbabwe  2001  Developing              45.3            686.0   \n",
            "2937     Zimbabwe  2000  Developing              46.0            665.0   \n",
            "\n",
            "      infant deaths  Alcohol  percentage expenditure  Hepatitis B  Measles   \\\n",
            "0                62     0.01               71.279624         65.0      1154   \n",
            "1                64     0.01               73.523582         62.0       492   \n",
            "2                66     0.01               73.219243         64.0       430   \n",
            "3                69     0.01               78.184215         67.0      2787   \n",
            "4                71     0.01                7.097109         68.0      3013   \n",
            "...             ...      ...                     ...          ...       ...   \n",
            "2933             27     4.36                0.000000         68.0        31   \n",
            "2934             26     4.06                0.000000          7.0       998   \n",
            "2935             25     4.43                0.000000         73.0       304   \n",
            "2936             25     1.72                0.000000         76.0       529   \n",
            "2937             24     1.68                0.000000         79.0      1483   \n",
            "\n",
            "      ...  Polio  Total expenditure  Diphtheria    HIV/AIDS         GDP  \\\n",
            "0     ...    6.0               8.16         65.0        0.1  584.259210   \n",
            "1     ...   58.0               8.18         62.0        0.1  612.696514   \n",
            "2     ...   62.0               8.13         64.0        0.1  631.744976   \n",
            "3     ...   67.0               8.52         67.0        0.1  669.959000   \n",
            "4     ...   68.0               7.87         68.0        0.1   63.537231   \n",
            "...   ...    ...                ...          ...        ...         ...   \n",
            "2933  ...   67.0               7.13         65.0       33.6  454.366654   \n",
            "2934  ...    7.0               6.52         68.0       36.7  453.351155   \n",
            "2935  ...   73.0               6.53         71.0       39.8   57.348340   \n",
            "2936  ...   76.0               6.16         75.0       42.1  548.587312   \n",
            "2937  ...   78.0               7.10         78.0       43.5  547.358878   \n",
            "\n",
            "      Population   thinness  1-19 years   thinness 5-9 years  \\\n",
            "0     33736494.0                   17.2                 17.3   \n",
            "1       327582.0                   17.5                 17.5   \n",
            "2     31731688.0                   17.7                 17.7   \n",
            "3      3696958.0                   17.9                 18.0   \n",
            "4      2978599.0                   18.2                 18.2   \n",
            "...          ...                    ...                  ...   \n",
            "2933  12777511.0                    9.4                  9.4   \n",
            "2934  12633897.0                    9.8                  9.9   \n",
            "2935    125525.0                    1.2                  1.3   \n",
            "2936  12366165.0                    1.6                  1.7   \n",
            "2937  12222251.0                   11.0                 11.2   \n",
            "\n",
            "      Income composition of resources  Schooling  \n",
            "0                               0.479       10.1  \n",
            "1                               0.476       10.0  \n",
            "2                               0.470        9.9  \n",
            "3                               0.463        9.8  \n",
            "4                               0.454        9.5  \n",
            "...                               ...        ...  \n",
            "2933                            0.407        9.2  \n",
            "2934                            0.418        9.5  \n",
            "2935                            0.427       10.0  \n",
            "2936                            0.427        9.8  \n",
            "2937                            0.434        9.8  \n",
            "\n",
            "[2938 rows x 22 columns]\n"
          ]
        }
      ]
    },
    {
      "cell_type": "code",
      "source": [
        "df = pd.DataFrame(data)\n",
        "print(df)\n",
        "df.columns"
      ],
      "metadata": {
        "colab": {
          "base_uri": "https://localhost:8080/"
        },
        "id": "AvGhi50OSqkM",
        "outputId": "edfaea98-ae52-46b0-d154-4cf3d3115fa5"
      },
      "execution_count": 23,
      "outputs": [
        {
          "output_type": "stream",
          "name": "stdout",
          "text": [
            "          Country  Year      Status  Life expectancy   Adult Mortality  \\\n",
            "0     Afghanistan  2015  Developing              65.0            263.0   \n",
            "1     Afghanistan  2014  Developing              59.9            271.0   \n",
            "2     Afghanistan  2013  Developing              59.9            268.0   \n",
            "3     Afghanistan  2012  Developing              59.5            272.0   \n",
            "4     Afghanistan  2011  Developing              59.2            275.0   \n",
            "...           ...   ...         ...               ...              ...   \n",
            "2933     Zimbabwe  2004  Developing              44.3            723.0   \n",
            "2934     Zimbabwe  2003  Developing              44.5            715.0   \n",
            "2935     Zimbabwe  2002  Developing              44.8             73.0   \n",
            "2936     Zimbabwe  2001  Developing              45.3            686.0   \n",
            "2937     Zimbabwe  2000  Developing              46.0            665.0   \n",
            "\n",
            "      infant deaths  Alcohol  percentage expenditure  Hepatitis B  Measles   \\\n",
            "0                62     0.01               71.279624         65.0      1154   \n",
            "1                64     0.01               73.523582         62.0       492   \n",
            "2                66     0.01               73.219243         64.0       430   \n",
            "3                69     0.01               78.184215         67.0      2787   \n",
            "4                71     0.01                7.097109         68.0      3013   \n",
            "...             ...      ...                     ...          ...       ...   \n",
            "2933             27     4.36                0.000000         68.0        31   \n",
            "2934             26     4.06                0.000000          7.0       998   \n",
            "2935             25     4.43                0.000000         73.0       304   \n",
            "2936             25     1.72                0.000000         76.0       529   \n",
            "2937             24     1.68                0.000000         79.0      1483   \n",
            "\n",
            "      ...  Polio  Total expenditure  Diphtheria    HIV/AIDS         GDP  \\\n",
            "0     ...    6.0               8.16         65.0        0.1  584.259210   \n",
            "1     ...   58.0               8.18         62.0        0.1  612.696514   \n",
            "2     ...   62.0               8.13         64.0        0.1  631.744976   \n",
            "3     ...   67.0               8.52         67.0        0.1  669.959000   \n",
            "4     ...   68.0               7.87         68.0        0.1   63.537231   \n",
            "...   ...    ...                ...          ...        ...         ...   \n",
            "2933  ...   67.0               7.13         65.0       33.6  454.366654   \n",
            "2934  ...    7.0               6.52         68.0       36.7  453.351155   \n",
            "2935  ...   73.0               6.53         71.0       39.8   57.348340   \n",
            "2936  ...   76.0               6.16         75.0       42.1  548.587312   \n",
            "2937  ...   78.0               7.10         78.0       43.5  547.358878   \n",
            "\n",
            "      Population   thinness  1-19 years   thinness 5-9 years  \\\n",
            "0     33736494.0                   17.2                 17.3   \n",
            "1       327582.0                   17.5                 17.5   \n",
            "2     31731688.0                   17.7                 17.7   \n",
            "3      3696958.0                   17.9                 18.0   \n",
            "4      2978599.0                   18.2                 18.2   \n",
            "...          ...                    ...                  ...   \n",
            "2933  12777511.0                    9.4                  9.4   \n",
            "2934  12633897.0                    9.8                  9.9   \n",
            "2935    125525.0                    1.2                  1.3   \n",
            "2936  12366165.0                    1.6                  1.7   \n",
            "2937  12222251.0                   11.0                 11.2   \n",
            "\n",
            "      Income composition of resources  Schooling  \n",
            "0                               0.479       10.1  \n",
            "1                               0.476       10.0  \n",
            "2                               0.470        9.9  \n",
            "3                               0.463        9.8  \n",
            "4                               0.454        9.5  \n",
            "...                               ...        ...  \n",
            "2933                            0.407        9.2  \n",
            "2934                            0.418        9.5  \n",
            "2935                            0.427       10.0  \n",
            "2936                            0.427        9.8  \n",
            "2937                            0.434        9.8  \n",
            "\n",
            "[2938 rows x 22 columns]\n"
          ]
        },
        {
          "output_type": "execute_result",
          "data": {
            "text/plain": [
              "Index(['Country', 'Year', 'Status', 'Life expectancy ', 'Adult Mortality',\n",
              "       'infant deaths', 'Alcohol', 'percentage expenditure', 'Hepatitis B',\n",
              "       'Measles ', ' BMI ', 'under-five deaths ', 'Polio', 'Total expenditure',\n",
              "       'Diphtheria ', ' HIV/AIDS', 'GDP', 'Population',\n",
              "       ' thinness  1-19 years', ' thinness 5-9 years',\n",
              "       'Income composition of resources', 'Schooling'],\n",
              "      dtype='object')"
            ]
          },
          "metadata": {},
          "execution_count": 23
        }
      ]
    },
    {
      "cell_type": "code",
      "source": [
        "df.columns = df.columns.str.replace(' ', '_')\n",
        "df.columns =df.columns.str.strip()\n",
        "df.columns"
      ],
      "metadata": {
        "colab": {
          "base_uri": "https://localhost:8080/"
        },
        "id": "5VCotOktTfoQ",
        "outputId": "a57533f1-6e51-4388-8368-9b3873127288"
      },
      "execution_count": 25,
      "outputs": [
        {
          "output_type": "execute_result",
          "data": {
            "text/plain": [
              "Index(['Country', 'Year', 'Status', 'Life_expectancy_', 'Adult_Mortality',\n",
              "       'infant_deaths', 'Alcohol', 'percentage_expenditure', 'Hepatitis_B',\n",
              "       'Measles_', '_BMI_', 'under-five_deaths_', 'Polio', 'Total_expenditure',\n",
              "       'Diphtheria_', '_HIV/AIDS', 'GDP', 'Population',\n",
              "       '_thinness__1-19_years', '_thinness_5-9_years',\n",
              "       'Income_composition_of_resources', 'Schooling'],\n",
              "      dtype='object')"
            ]
          },
          "metadata": {},
          "execution_count": 25
        }
      ]
    },
    {
      "cell_type": "code",
      "source": [
        "num_cols = df.select_dtypes(include=['float64', 'int64']).columns\n",
        "df[num_cols] = df[num_cols].apply(lambda x: x.fillna(x.mean()))"
      ],
      "metadata": {
        "id": "5TkRZCuSTxau"
      },
      "execution_count": 26,
      "outputs": []
    },
    {
      "cell_type": "code",
      "source": [
        "cat_cols = df.select_dtypes(include=['object']).columns\n",
        "df[cat_cols] = df[cat_cols].apply(lambda x: x.fillna(x.mode()[0]))\n",
        "df = df.drop_duplicates()"
      ],
      "metadata": {
        "id": "w78zdeTCVCeA"
      },
      "execution_count": 27,
      "outputs": []
    },
    {
      "cell_type": "markdown",
      "source": [
        "Question 1: Should a country having a lower life expectancy value (<65) increase its healthcare expenditure in order to improve its average lifespan?"
      ],
      "metadata": {
        "id": "Dl28mb8EXWEl"
      }
    },
    {
      "cell_type": "code",
      "source": [
        "import matplotlib.pyplot as plt\n",
        "import seaborn as sns"
      ],
      "metadata": {
        "id": "glGRd2CPVUnF"
      },
      "execution_count": 32,
      "outputs": []
    },
    {
      "cell_type": "code",
      "source": [
        "life_expectancy_data = df[df['Life_expectancy_'] < 65]"
      ],
      "metadata": {
        "id": "_AOWsJnLXgHZ"
      },
      "execution_count": 39,
      "outputs": []
    },
    {
      "cell_type": "markdown",
      "source": [
        "Question 1: Should a country having a lower life expectancy value (<65) increase its healthcare\n",
        "expenditure in order to improve its average lifespan"
      ],
      "metadata": {
        "id": "7sZRKj3Pl_YS"
      }
    },
    {
      "cell_type": "code",
      "source": [
        "correlation = life_expectancy_data['Total_expenditure'].corr(life_expectancy_data['Life_expectancy_'])\n",
        "print(f'Correlation between Healthcare Expenditure and Life Expectancy: {correlation}')"
      ],
      "metadata": {
        "colab": {
          "base_uri": "https://localhost:8080/"
        },
        "id": "GZ0dyiMBnrfk",
        "outputId": "68f46572-109c-4f81-bf8b-eb1d404eb97c"
      },
      "execution_count": 40,
      "outputs": [
        {
          "output_type": "stream",
          "name": "stdout",
          "text": [
            "Correlation between Healthcare Expenditure and Life Expectancy: -0.15062876854783794\n"
          ]
        }
      ]
    },
    {
      "cell_type": "markdown",
      "source": [
        "No,  a country with a lower life expectancy value (<65) should not increase its healthcare expenditure in order to improve its average lifespan.  Since there is a negative correlation between healthcare spending and life expectancy, then increasing expenditure will not be beneficial."
      ],
      "metadata": {
        "id": "RNtT9LOyr2Q5"
      }
    },
    {
      "cell_type": "markdown",
      "source": [
        "Question 2: How does Infant and Adult mortality rates affect life expectancy?"
      ],
      "metadata": {
        "id": "tFCZ032DqWAI"
      }
    },
    {
      "cell_type": "code",
      "source": [
        "mortality_correlation = ['Life_expectancy_', 'infant_deaths', 'Adult_Mortality']\n",
        "corr_matrix = df[mortality_correlation].corr()\n",
        "print(corr_matrix)\n"
      ],
      "metadata": {
        "colab": {
          "base_uri": "https://localhost:8080/"
        },
        "id": "5vKBBiDfoba2",
        "outputId": "4a356d6a-3de8-4d12-d145-9a3d37a23cd4"
      },
      "execution_count": 45,
      "outputs": [
        {
          "output_type": "stream",
          "name": "stdout",
          "text": [
            "                  Life_expectancy_  infant_deaths  Adult_Mortality\n",
            "Life_expectancy_          1.000000      -0.196535        -0.696359\n",
            "infant_deaths            -0.196535       1.000000         0.078747\n",
            "Adult_Mortality          -0.696359       0.078747         1.000000\n"
          ]
        }
      ]
    },
    {
      "cell_type": "markdown",
      "source": [
        "Since the correlation between life expectancy and infant mortality rate is negative but not close to -1. We can conclude that, There is a weak negative correlation between life expectancy and infant deaths (-0.197), suggesting that higher infant mortality rates are associated with slightly lower life expectancy, but the relationship is not as strong as with adult mortality.\n",
        "Life expectancy has a strong negative correlation with adult mortality (-0.696), indicating that as adult mortality rates increase, life expectancy decreases significantly."
      ],
      "metadata": {
        "id": "YfufrmrLfapP"
      }
    },
    {
      "cell_type": "markdown",
      "source": [
        "\n",
        "\n",
        "Question 3: Does Life Expectancy have positive or negative correlation with eating habits, lifestyle,\n",
        "exercise, smoking, drinking alcohol etc"
      ],
      "metadata": {
        "id": "_WgwhaUYqmuL"
      }
    },
    {
      "cell_type": "code",
      "source": [
        "eatinghabits_columns = ['Life_expectancy_', 'Alcohol', '_BMI_', '_HIV/AIDS', '_thinness__1-19_years']\n",
        "eatinghabits_data = df[eatinghabits_columns]\n",
        "correlation_matrix = eatinghabits_data.corr()\n",
        "print(correlation_matrix)"
      ],
      "metadata": {
        "colab": {
          "base_uri": "https://localhost:8080/"
        },
        "id": "c7IJlxAArnjL",
        "outputId": "4382abf9-c9b9-4869-8ea2-75ac6dc08d55"
      },
      "execution_count": 51,
      "outputs": [
        {
          "output_type": "stream",
          "name": "stdout",
          "text": [
            "                       Life_expectancy_   Alcohol     _BMI_  _HIV/AIDS  \\\n",
            "Life_expectancy_               1.000000  0.391598  0.559255  -0.556457   \n",
            "Alcohol                        0.391598  1.000000  0.318070  -0.048650   \n",
            "_BMI_                          0.559255  0.318070  1.000000  -0.243548   \n",
            "_HIV/AIDS                     -0.556457 -0.048650 -0.243548   1.000000   \n",
            "_thinness__1-19_years         -0.472162 -0.416946 -0.532025   0.203922   \n",
            "\n",
            "                       _thinness__1-19_years  \n",
            "Life_expectancy_                   -0.472162  \n",
            "Alcohol                            -0.416946  \n",
            "_BMI_                              -0.532025  \n",
            "_HIV/AIDS                           0.203922  \n",
            "_thinness__1-19_years               1.000000  \n"
          ]
        }
      ]
    },
    {
      "cell_type": "markdown",
      "source": [
        "Based on the correlation matrix above, I conclude that Life expectancy has a positive correlation with alcohol consumption (0.392), BMI (0.559), suggesting that moderate alcohol consumption and a healthy BMI are associated with higher life expectancy.\n",
        "Life expectancy has a strong negative correlation with HIV/AIDS prevalence (-0.556) and thinness in 1-19 year-olds (-0.472), indicating that higher rates of HIV/AIDS and thinness are associated with lower life expectancy."
      ],
      "metadata": {
        "id": "GEup20NNoEju"
      }
    },
    {
      "cell_type": "markdown",
      "source": [
        "Questio 4: What is the impact of schooling on the lifespan of humans"
      ],
      "metadata": {
        "id": "tnPpP8vG1lBy"
      }
    },
    {
      "cell_type": "code",
      "source": [
        "school_corr = df['Schooling'].corr(df['Life_expectancy_'])\n",
        "print(f'Correlation between Schooling and Life Expectancy: {school_corr}')"
      ],
      "metadata": {
        "colab": {
          "base_uri": "https://localhost:8080/"
        },
        "id": "Tg9q7Lat1b1G",
        "outputId": "37917c33-ad6a-4dab-ce5d-1132c65553ee"
      },
      "execution_count": 55,
      "outputs": [
        {
          "output_type": "stream",
          "name": "stdout",
          "text": [
            "Correlation between Schooling and Life Expectancy: 0.7150663398620056\n"
          ]
        }
      ]
    },
    {
      "cell_type": "markdown",
      "source": [
        "The correlation between schooling and life expectancy is 0.715, indicating a strong positive relationship. This means that higher levels of schooling are associated with longer life expectancy. Thus, I conlude that schooling has strong impact on the lifespan of humans."
      ],
      "metadata": {
        "id": "4vLbxpjc1yW2"
      }
    },
    {
      "cell_type": "markdown",
      "source": [
        "Question 5: Does Life Expectancy have a positive or negative relationship with drinking alcohol"
      ],
      "metadata": {
        "id": "AbfIy-2h2TNU"
      }
    },
    {
      "cell_type": "code",
      "source": [
        "alchohol_correlation = df['Alcohol'].corr(df['Life_expectancy_'])\n",
        "print(f'Correlation between Alcohol consumption and Life Expectancy: {alchohol_correlation}')"
      ],
      "metadata": {
        "colab": {
          "base_uri": "https://localhost:8080/"
        },
        "id": "ezDI7VxK1xIe",
        "outputId": "1d6c3068-206c-4f03-a348-2b19d33f1ab8"
      },
      "execution_count": null,
      "outputs": [
        {
          "output_type": "stream",
          "name": "stdout",
          "text": [
            "-0.1156376770657746\n"
          ]
        }
      ]
    },
    {
      "cell_type": "markdown",
      "source": [
        "Since there is a negative correlation  between alchohol and life_expectancy, then there is no close relationship between alchohol and life expectancy."
      ],
      "metadata": {
        "id": "NeRiey6Y2hMe"
      }
    },
    {
      "cell_type": "markdown",
      "source": [
        "Question 6:Do densely populated countries tend to have lower life expectancy"
      ],
      "metadata": {
        "id": "DsbM_Y_P4OZl"
      }
    },
    {
      "cell_type": "code",
      "source": [
        "corr_population = df['Life_expectancy_'].corr(df['Population'])\n",
        "print(f\"Correlation between population and life expectancy: {corr_population}\")\n"
      ],
      "metadata": {
        "id": "Ast0wwJC2LlZ",
        "colab": {
          "base_uri": "https://localhost:8080/"
        },
        "outputId": "b98b628a-4763-4ae1-9f60-d1f7a23fe942"
      },
      "execution_count": 57,
      "outputs": [
        {
          "output_type": "stream",
          "name": "stdout",
          "text": [
            "Correlation between population and life expectancy: -0.019637701509419587\n"
          ]
        }
      ]
    },
    {
      "cell_type": "markdown",
      "source": [
        "The correlation between population and life expectancy is -0.0196, indicating a very weak negative relationship. This suggests that densely populated countries do not tend to have significantly lower life expectancy."
      ],
      "metadata": {
        "id": "l9-c91cUr3cu"
      }
    },
    {
      "cell_type": "markdown",
      "source": [
        "Question 7: What is the impact of Immunization coverage on life Expectancy?\n"
      ],
      "metadata": {
        "id": "IwGKVl0xsFN0"
      }
    },
    {
      "cell_type": "code",
      "source": [
        "corr_hepatitis_b = df['corr_matrix['quant__Life expectancy '].sort_values(ascending=False)'].corr(df['Hepatitis_B'])\n",
        "corr_polio = df['Life_expectancy_'].corr(df['Polio'])\n",
        "corr_diphtheria = df['Life_expectancy_'].corr(df['Diphtheria_'])\n",
        "\n",
        "print(f\"Correlation between Hepatitis B immunization and life expectancy: {corr_hepatitis_b}\")\n",
        "print(f\"Correlation between Polio immunization and life expectancy: {corr_polio}\")\n",
        "print(f\"Correlation between Diphtheria immunization and life expectancy: {corr_diphtheria}\")\n"
      ],
      "metadata": {
        "colab": {
          "base_uri": "https://localhost:8080/"
        },
        "id": "C7CAH2oDrQP1",
        "outputId": "51c33c51-f21e-4caf-ac90-358177f9e531"
      },
      "execution_count": 59,
      "outputs": [
        {
          "output_type": "stream",
          "name": "stdout",
          "text": [
            "Correlation between Hepatitis B immunization and life expectancy: 0.20377143740026762\n",
            "Correlation between Polio immunization and life expectancy: 0.46157377544578987\n",
            "Correlation between Diphtheria immunization and life expectancy: 0.4754183849366064\n"
          ]
        }
      ]
    },
    {
      "cell_type": "code",
      "source": [
        "from sklearn.model_selection import train_test_split\n",
        "from sklearn.linear_model import LinearRegression\n",
        "from sklearn.metrics import mean_squared_error\n",
        "from sklearn.tree import DecisionTreeRegressor"
      ],
      "metadata": {
        "id": "bSgv432eyGya"
      },
      "execution_count": 64,
      "outputs": []
    },
    {
      "cell_type": "markdown",
      "source": [
        "With all the correlations between polio, diphtheria, and hepatitis b immunizations and life span being positive, we conclude that there is a very strong relationship between immunization coverage and life expectancy."
      ],
      "metadata": {
        "id": "W9FPnV7svdid"
      }
    },
    {
      "cell_type": "markdown",
      "source": [
        "Question 8: What are the predicting variables actually affecting life expectancy"
      ],
      "metadata": {
        "id": "Dqs6Fa5Xvvq4"
      }
    },
    {
      "cell_type": "code",
      "source": [
        "features = df.columns.drop('Country')\n",
        "X = pd.get_dummies(df.drop('Country', axis=1), columns=['Status']).fillna(0)\n",
        "y = df['Life_expectancy_'].fillna(0)\n"
      ],
      "metadata": {
        "id": "BsiSrF6LuXe9"
      },
      "execution_count": 70,
      "outputs": []
    },
    {
      "cell_type": "code",
      "source": [
        "X_train, X_test, y_train, y_test = train_test_split(X, y, test_size=0.2, random_state=42)\n",
        "\n",
        "\n",
        "model = LinearRegression()\n",
        "model.fit(X_train, y_train)\n",
        "predictions = model.predict(X_test)"
      ],
      "metadata": {
        "id": "ET7T7m7fw_5G"
      },
      "execution_count": 71,
      "outputs": []
    },
    {
      "cell_type": "code",
      "source": [
        "mse = mean_squared_error(y_test, predictions)\n",
        "print(f'Mean Squared Error: {mse}')"
      ],
      "metadata": {
        "colab": {
          "base_uri": "https://localhost:8080/"
        },
        "id": "tSIk1WnYyAga",
        "outputId": "4bc6ce7b-6043-42b7-c963-c334a3087d21"
      },
      "execution_count": 72,
      "outputs": [
        {
          "output_type": "stream",
          "name": "stdout",
          "text": [
            "Mean Squared Error: 4.9173551641165155e-17\n"
          ]
        }
      ]
    },
    {
      "cell_type": "code",
      "source": [
        "features = X.columns  # Update features to reflect the columns of X after one-hot encoding\n",
        "coefficients = pd.DataFrame({'Feature': features, 'Coefficient': model.coef_})\n",
        "print(coefficients.sort_values(by='Coefficient', ascending=False))"
      ],
      "metadata": {
        "colab": {
          "base_uri": "https://localhost:8080/"
        },
        "id": "20C5FwxQzOv5",
        "outputId": "3f9ff693-d8ee-4236-d811-c12d2e1998d5"
      },
      "execution_count": 74,
      "outputs": [
        {
          "output_type": "stream",
          "name": "stdout",
          "text": [
            "                            Feature   Coefficient\n",
            "1                  Life_expectancy_  1.000000e+00\n",
            "3                     infant_deaths  1.442883e-10\n",
            "0                              Year  9.082807e-11\n",
            "4                           Alcohol  3.189925e-11\n",
            "11                Total_expenditure  2.987020e-11\n",
            "8                             _BMI_  1.251941e-11\n",
            "13                        _HIV/AIDS  5.754032e-12\n",
            "2                   Adult_Mortality  2.784435e-12\n",
            "7                          Measles_  1.447743e-14\n",
            "14                              GDP  1.682397e-15\n",
            "20                 Status_Developed  4.179314e-16\n",
            "19                        Schooling  1.685339e-16\n",
            "17              _thinness_5-9_years  3.078793e-17\n",
            "15                       Population -7.239291e-18\n",
            "16            _thinness__1-19_years -3.756216e-16\n",
            "21                Status_Developing -4.098299e-16\n",
            "18  Income_composition_of_resources -1.598004e-15\n",
            "5            percentage_expenditure -2.149002e-14\n",
            "6                       Hepatitis_B -1.926808e-12\n",
            "10                            Polio -6.950412e-12\n",
            "12                      Diphtheria_ -9.399388e-12\n",
            "9                under-five_deaths_ -6.857517e-11\n"
          ]
        }
      ]
    },
    {
      "cell_type": "markdown",
      "source": [
        "Question 9: Train and test at least 3 regression models and pick the best performing model to predict life\n",
        "expectancy"
      ],
      "metadata": {
        "id": "A-2_EYRF0Dhb"
      }
    },
    {
      "cell_type": "code",
      "source": [
        "from sklearn.preprocessing import StandardScaler, PolynomialFeatures\n",
        "from sklearn.linear_model import LinearRegression"
      ],
      "metadata": {
        "id": "6Kty0ttozULV"
      },
      "execution_count": 76,
      "outputs": []
    },
    {
      "cell_type": "code",
      "source": [
        "X = df.drop(['Country', 'Year', 'Status', 'Life_expectancy_'], axis=1)\n",
        "y = df['Life_expectancy_']\n",
        "X_train, X_test, y_train, y_test = train_test_split(X, y, test_size=0.2, random_state=42)"
      ],
      "metadata": {
        "id": "pnDFb6m30ipW"
      },
      "execution_count": 81,
      "outputs": []
    },
    {
      "cell_type": "code",
      "source": [
        "scaler = StandardScaler()\n",
        "X_train_scaled = scaler.fit_transform(X_train)\n",
        "X_test_scaled = scaler.transform(X_test)\n"
      ],
      "metadata": {
        "id": "QUoDT82G03dp"
      },
      "execution_count": 82,
      "outputs": []
    },
    {
      "cell_type": "code",
      "source": [
        "models = {\n",
        "    'Linear Regression': LinearRegression(),\n",
        "    'Decision Tree Regression': DecisionTreeRegressor(random_state=42),\n",
        "    'Polynomial Regression': LinearRegression()\n",
        "}"
      ],
      "metadata": {
        "id": "qoFqwEuq1Xb2"
      },
      "execution_count": 83,
      "outputs": []
    },
    {
      "cell_type": "code",
      "source": [
        "best_model = None\n",
        "best_rmse = float('inf')"
      ],
      "metadata": {
        "id": "H2uR82K_1ahY"
      },
      "execution_count": 84,
      "outputs": []
    },
    {
      "cell_type": "code",
      "source": [
        "for name, model in models.items():\n",
        "    if name == 'Polynomial Regression':\n",
        "        poly_features = PolynomialFeatures(degree=2)\n",
        "        X_train_poly = poly_features.fit_transform(X_train_scaled)\n",
        "        X_test_poly = poly_features.transform(X_test_scaled)\n",
        "        model.fit(X_train_poly, y_train)\n",
        "        y_pred = model.predict(X_test_poly)\n",
        "    else:\n",
        "        model.fit(X_train_scaled, y_train)\n",
        "        y_pred = model.predict(X_test_scaled)\n",
        "\n",
        "    rmse = mean_squared_error(y_test, y_pred, squared=False)\n",
        "    print(f\"{name} RMSE: {rmse}\")\n",
        "\n",
        "    if rmse < best_rmse:\n",
        "        best_rmse = rmse\n",
        "        best_model = model"
      ],
      "metadata": {
        "colab": {
          "base_uri": "https://localhost:8080/"
        },
        "id": "Dv_zpg7_1df5",
        "outputId": "732cd3e2-d20f-45a8-9b9e-8ed2426f4cfa"
      },
      "execution_count": 85,
      "outputs": [
        {
          "output_type": "stream",
          "name": "stdout",
          "text": [
            "Linear Regression RMSE: 3.9209398281263734\n",
            "Decision Tree Regression RMSE: 2.3845984353906395\n",
            "Polynomial Regression RMSE: 2.9786357753218353\n"
          ]
        }
      ]
    },
    {
      "cell_type": "code",
      "source": [
        "print(f\"\\nBest performing model: {type(best_model).__name__} with RMSE: {best_rmse}\")"
      ],
      "metadata": {
        "colab": {
          "base_uri": "https://localhost:8080/"
        },
        "id": "3Q1a52go1ht9",
        "outputId": "21c23be6-225f-4a3e-ffe3-923d35dd9604"
      },
      "execution_count": 86,
      "outputs": [
        {
          "output_type": "stream",
          "name": "stdout",
          "text": [
            "\n",
            "Best performing model: DecisionTreeRegressor with RMSE: 2.3845984353906395\n"
          ]
        }
      ]
    },
    {
      "cell_type": "code",
      "source": [],
      "metadata": {
        "id": "YmdyRTrm1nP6"
      },
      "execution_count": null,
      "outputs": []
    }
  ]
}